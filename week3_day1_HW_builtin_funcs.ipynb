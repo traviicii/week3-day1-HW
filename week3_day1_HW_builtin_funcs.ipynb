{
 "cells": [
  {
   "cell_type": "code",
   "execution_count": 58,
   "id": "1ecf06eb",
   "metadata": {},
   "outputs": [
    {
     "data": {
      "text/plain": [
       "['Argentina', 'San Diego', 'Boston', 'New York']"
      ]
     },
     "execution_count": 58,
     "metadata": {},
     "output_type": "execute_result"
    }
   ],
   "source": [
    "# Exercise #1\n",
    "# Filter out all of the empty strings from the list below\n",
    "#Output: ['Argentina', 'San Diego', 'Boston', 'New York']\n",
    "places = [\" \",\"Argentina\", \" \", \"San Diego\",\"\",\"  \",\"\",\"Boston\",\"New York\"]\n",
    "\n",
    "#filter(func, iter)\n",
    "one = list(filter(lambda x: not x.isspace(), places))\n",
    "list(filter(None, one))\n",
    "\n",
    "#There's gotta be a better way, no? Rather than using two seperate filters.\n",
    "#I do feel a little clever for using isspace(), however it doesn't take care of truly empty strings"
   ]
  },
  {
   "cell_type": "code",
   "execution_count": 69,
   "id": "3e91ff86",
   "metadata": {},
   "outputs": [
    {
     "name": "stdout",
     "output_type": "stream",
     "text": [
      "['Victor aNisimov', 'Gary A.J. Bernstein', 'Joel Carter', 'Andrew P. Garfield', 'David hassELHOFF']\n",
      "['Victor aNisimov', 'Gary A.J. Bernstein', 'Joel Carter', 'Andrew P. Garfield', 'David hassELHOFF']\n"
     ]
    }
   ],
   "source": [
    "# Exercise #2\n",
    "# Write an anonymous function that sorts this list by the last name...\n",
    "# Hint: Use the \".sort()\" method and access the key\"\n",
    "# Output: ['Victor aNisimov', 'Gary A.J. Bernstein', 'Joel Carter', 'Andrew P. Garfield', 'David hassELHOFF']\n",
    "author = [\"Joel Carter\", \"Victor aNisimov\", \"Andrew P. Garfield\",\"David hassELHOFF\",\"Gary A.J. Bernstein\"]\n",
    "author.sort(key=lambda name: name.split(\" \")[-1].lower())\n",
    "print(author)\n",
    "\n",
    "author = [\"Joel Carter\", \"Victor aNisimov\", \"Andrew P. Garfield\",\"David hassELHOFF\",\"Gary A.J. Bernstein\"]\n",
    "authors = sorted(author, key=lambda name: name.split(\" \")[-1].lower())\n",
    "print(authors)\n",
    "\n",
    "#.sort() vs sorted()"
   ]
  },
  {
   "cell_type": "code",
   "execution_count": 25,
   "id": "c603e7ce",
   "metadata": {},
   "outputs": [
    {
     "data": {
      "text/plain": [
       "[('Nashua', 89.6), ('Boston', 53.6), ('Los Angelos', 111.2), ('Miami', 84.2)]"
      ]
     },
     "execution_count": 25,
     "metadata": {},
     "output_type": "execute_result"
    }
   ],
   "source": [
    "# Exercise #3\n",
    "# Convert the list below from Celsius to Farhenheit, using the map function with a lambda...\n",
    "\n",
    "# Output: [('Nashua', 89.6), ('Boston', 53.6), ('Los Angelos', 111.2), ('Miami', 84.2)]\n",
    "# F = (9/5)*C + 32\n",
    "places = [('Nashua',32),(\"Boston\",12),(\"Los Angelos\",44),(\"Miami\",29)]\n",
    "\n",
    "CtoF = lambda lst: (lst[0], (9/5)*lst[1] + 32)\n",
    "list(map(CtoF, places))\n",
    "\n",
    "#This could be done in one line as well:\n",
    "list(map(lambda lst: (lst[0], (9/5)*lst[1] + 32), places))\n"
   ]
  },
  {
   "cell_type": "code",
   "execution_count": 104,
   "id": "97e19595",
   "metadata": {},
   "outputs": [
    {
     "name": "stdout",
     "output_type": "stream",
     "text": [
      "8\n",
      "8\n"
     ]
    }
   ],
   "source": [
    "# Exercise #4\n",
    "# Write a recursion function to perform the fibonacci sequence up to the number passed in.\n",
    "\n",
    "# Output for fib(5) => \n",
    "# Iteration 0: 1\n",
    "# Iteration 1: 1\n",
    "# Iteration 2: 2\n",
    "# Iteration 3: 3\n",
    "# Iteration 4: 5\n",
    "# Iteration 5: 8\n",
    "\n",
    "# memoization, look this up\n",
    "# if I realize I'm repeating work I've already done, let's not. Store that info and simply access it again.\n",
    "fibnums = {}\n",
    "def fib(n):\n",
    "    if n in fibnums:\n",
    "        return fibnums[n]\n",
    "    if n == 0:\n",
    "         num = 1\n",
    "    elif n == 1:\n",
    "        num = 1\n",
    "    elif n == 2:\n",
    "        num = 2\n",
    "    elif n > 2:\n",
    "        num = fib(n-1) + fib(n-2)\n",
    "    \n",
    "    fibnums[n] = num\n",
    "    return num\n",
    "        \n",
    "print(fib(5))\n",
    "\n",
    "from functools import lru_cache\n",
    "@lru_cache(maxsize = 1000)\n",
    "def fib1(n):    #same function as above but using the \"least recently used\" cache funtion.\n",
    "    if n == 0:\n",
    "        return 1\n",
    "    elif n == 1:\n",
    "        return 1\n",
    "    elif n == 2:\n",
    "        return 2\n",
    "    elif n > 2:\n",
    "        return fib(n-1) + fib(n-2)\n",
    "    \n",
    "print(fib1(5))"
   ]
  }
 ],
 "metadata": {
  "celltoolbar": "Tags",
  "kernelspec": {
   "display_name": "Python 3 (ipykernel)",
   "language": "python",
   "name": "python3"
  },
  "language_info": {
   "codemirror_mode": {
    "name": "ipython",
    "version": 3
   },
   "file_extension": ".py",
   "mimetype": "text/x-python",
   "name": "python",
   "nbconvert_exporter": "python",
   "pygments_lexer": "ipython3",
   "version": "3.9.7"
  }
 },
 "nbformat": 4,
 "nbformat_minor": 5
}
